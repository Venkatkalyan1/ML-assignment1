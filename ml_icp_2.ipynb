{
  "nbformat": 4,
  "nbformat_minor": 0,
  "metadata": {
    "colab": {
      "provenance": []
    },
    "kernelspec": {
      "name": "python3",
      "display_name": "Python 3"
    },
    "language_info": {
      "name": "python"
    }
  },
  "cells": [
    {
      "cell_type": "code",
      "source": [
        "n=5\n",
        "\n",
        "#Simple triangle pattern\n",
        "for i in range(1,n+1):\n",
        "  print(\"* \" * i)\n",
        "\n",
        "#reverse triangle pattern\n",
        "for i in range(n - 1,0, -1):\n",
        "   print(\"* \" * i)"
      ],
      "metadata": {
        "colab": {
          "base_uri": "https://localhost:8080/"
        },
        "id": "2cn5tz-1YYY1",
        "outputId": "8beb427e-db74-46a9-978e-a13cd8dfbcf7"
      },
      "execution_count": 4,
      "outputs": [
        {
          "output_type": "stream",
          "name": "stdout",
          "text": [
            "* \n",
            "* * \n",
            "* * * \n",
            "* * * * \n",
            "* * * * * \n",
            "* * * * \n",
            "* * * \n",
            "* * \n",
            "* \n"
          ]
        }
      ]
    },
    {
      "cell_type": "code",
      "source": [
        "my_list = [10, 20, 30, 40, 50, 60, 70, 80, 90, 100]\n",
        "\n",
        "# Loop through the list to get elements at odd indexes\n",
        "for i in range(1, len(my_list), 2):\n",
        "    print(my_list[i])\n"
      ],
      "metadata": {
        "colab": {
          "base_uri": "https://localhost:8080/"
        },
        "id": "0evwB2mcZyid",
        "outputId": "28350f7f-ef50-4179-8823-f623a96ef82e"
      },
      "execution_count": 5,
      "outputs": [
        {
          "output_type": "stream",
          "name": "stdout",
          "text": [
            "20\n",
            "40\n",
            "60\n",
            "80\n",
            "100\n"
          ]
        }
      ]
    },
    {
      "cell_type": "code",
      "source": [
        "x = [23, 'Python', 23.98]\n",
        "\n",
        "types_list = []\n",
        "\n",
        "for element in x:\n",
        "    types_list.append(type(element))\n",
        "\n",
        "print(x)\n",
        "\n",
        "print(types_list)\n"
      ],
      "metadata": {
        "colab": {
          "base_uri": "https://localhost:8080/"
        },
        "id": "4bVe-lFLaFA0",
        "outputId": "cd3b22c5-cbb8-47f8-cd93-7f58aeee93f3"
      },
      "execution_count": 6,
      "outputs": [
        {
          "output_type": "stream",
          "name": "stdout",
          "text": [
            "[23, 'Python', 23.98]\n",
            "[<class 'int'>, <class 'str'>, <class 'float'>]\n"
          ]
        }
      ]
    },
    {
      "cell_type": "code",
      "source": [
        "def get_unique_items(input_list):\n",
        "    # Use a set to store unique items\n",
        "    unique_items = set(input_list)\n",
        "    # Convert the set back to a list\n",
        "    unique_list = list(unique_items)\n",
        "    return unique_list\n",
        "\n",
        "# Sample List\n",
        "sample_list = [1, 2, 3, 3, 3, 3, 4, 5]\n",
        "\n",
        "# Get the unique list\n",
        "unique_list = get_unique_items(sample_list)\n",
        "\n",
        "# Print the unique list\n",
        "print(\"Unique List:\", unique_list)\n"
      ],
      "metadata": {
        "colab": {
          "base_uri": "https://localhost:8080/"
        },
        "id": "ngLGD0R9aSpC",
        "outputId": "ee370a88-c6fc-44de-ebe2-6bd6996493f0"
      },
      "execution_count": 8,
      "outputs": [
        {
          "output_type": "stream",
          "name": "stdout",
          "text": [
            "Unique List: [1, 2, 3, 4, 5]\n"
          ]
        }
      ]
    },
    {
      "cell_type": "code",
      "source": [
        "def count_case_characters(input_string):\n",
        "    upper_case_count = 0\n",
        "    lower_case_count = 0\n",
        "\n",
        "    for char in input_string:\n",
        "        if char.isupper():\n",
        "            upper_case_count += 1\n",
        "        elif char.islower():\n",
        "            lower_case_count += 1\n",
        "\n",
        "    return upper_case_count, lower_case_count\n",
        "\n",
        "# Input String\n",
        "input_string = 'The quick Brow Fox'\n",
        "\n",
        "# Calculate the number of upper-case and lower-case characters\n",
        "upper_case_count, lower_case_count = count_case_characters(input_string)\n",
        "\n",
        "# Print the results\n",
        "print(f\"No. of Upper-case characters: {upper_case_count}\")\n",
        "print(f\"No. of Lower-case Characters: {lower_case_count}\")\n"
      ],
      "metadata": {
        "colab": {
          "base_uri": "https://localhost:8080/"
        },
        "id": "fqHAGAv6ajxO",
        "outputId": "98533da2-af59-4118-bf57-1d9c6921bbfa"
      },
      "execution_count": 9,
      "outputs": [
        {
          "output_type": "stream",
          "name": "stdout",
          "text": [
            "No. of Upper-case characters: 3\n",
            "No. of Lower-case Characters: 12\n"
          ]
        }
      ]
    }
  ]
}